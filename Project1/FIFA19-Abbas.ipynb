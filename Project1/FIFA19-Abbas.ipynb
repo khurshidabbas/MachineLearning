{
  "nbformat": 4,
  "nbformat_minor": 0,
  "metadata": {
    "kernelspec": {
      "name": "python3",
      "display_name": "Python 3"
    },
    "language_info": {
      "codemirror_mode": {
        "name": "ipython",
        "version": 3
      },
      "file_extension": ".py",
      "mimetype": "text/x-python",
      "name": "python",
      "nbconvert_exporter": "python",
      "pygments_lexer": "ipython3",
      "version": "3.7.4"
    },
    "colab": {
      "name": "FIFA19.ipynb",
      "provenance": [],
      "collapsed_sections": [],
      "machine_shape": "hm"
    },
    "accelerator": "GPU"
  },
  "cells": [
    {
      "cell_type": "code",
      "metadata": {
        "id": "cC4_XXDF_6Cv",
        "colab_type": "code",
        "colab": {}
      },
      "source": [
        "import numpy as np\n",
        "import pandas as pd\n",
        "import seaborn as sns\n",
        "import matplotlib.pyplot as plt\n",
        "from scipy import stats\n",
        "\n",
        "url = 'https://raw.githubusercontent.com/khurshidabbas/MachineLearning/master/Project1/dataset/fifadata.csv'\n",
        "pd.options.display.max_columns = 100\n",
        "pd.options.display.max_rows = 100\n",
        "data = pd.read_csv(url)"
      ],
      "execution_count": 0,
      "outputs": []
    },
    {
      "cell_type": "code",
      "metadata": {
        "id": "dmciL8qg_6DB",
        "colab_type": "code",
        "colab": {}
      },
      "source": [
        "noFeatureColumns = [\"Unnamed: 0\", \"ID\", \"Photo\", \"Flag\", \"Name\", \"Club Logo\", \"Real Face\", \"Loaned From\", \"Release Clause\", \"Jersey Number\",\n",
        "                    \"Nationality\", \"Club\", \"Preferred Foot\", \"Work Rate\", \"Body Type\", \"Position\"]\n",
        "dataWithPredictableFeatures = data.drop(noFeatureColumns, axis = 1)"
      ],
      "execution_count": 0,
      "outputs": []
    },
    {
      "cell_type": "code",
      "metadata": {
        "id": "bipf12qQmtEn",
        "colab_type": "code",
        "colab": {}
      },
      "source": [
        "dataWithPredictableFeatures['ShortPassing'].fillna(dataWithPredictableFeatures['ShortPassing'].mean(), inplace = True)\n",
        "dataWithPredictableFeatures['Volleys'].fillna(dataWithPredictableFeatures['Volleys'].mean(), inplace = True)\n",
        "dataWithPredictableFeatures['Dribbling'].fillna(dataWithPredictableFeatures['Dribbling'].mean(), inplace = True)\n",
        "dataWithPredictableFeatures['Curve'].fillna(dataWithPredictableFeatures['Curve'].mean(), inplace = True)\n",
        "dataWithPredictableFeatures['FKAccuracy'].fillna(dataWithPredictableFeatures['FKAccuracy'].mean(), inplace = True)\n",
        "dataWithPredictableFeatures['LongPassing'].fillna(dataWithPredictableFeatures['LongPassing'].mean(), inplace = True)\n",
        "dataWithPredictableFeatures['BallControl'].fillna(dataWithPredictableFeatures['BallControl'].mean(), inplace = True)\n",
        "dataWithPredictableFeatures['HeadingAccuracy'].fillna(dataWithPredictableFeatures['HeadingAccuracy'].mean(), inplace = True)\n",
        "dataWithPredictableFeatures['Finishing'].fillna(dataWithPredictableFeatures['Finishing'].mean(), inplace = True)\n",
        "dataWithPredictableFeatures['Crossing'].fillna(dataWithPredictableFeatures['Crossing'].mean(), inplace = True)\n",
        "dataWithPredictableFeatures['Skill Moves'].fillna(dataWithPredictableFeatures['Skill Moves'].median(), inplace = True)\n",
        "dataWithPredictableFeatures['Weak Foot'].fillna(dataWithPredictableFeatures['Weak Foot'].median(), inplace = True)\n",
        "dataWithPredictableFeatures['International Reputation'].fillna(dataWithPredictableFeatures['International Reputation'].median(), inplace = True)\n",
        "\n",
        "# dataWithPredictableFeatures['Preferred Foot'].fillna('Right', inplace = True)\n",
        "# dataWithPredictableFeatures['Club'].fillna('FC Barcelona', inplace = True)\n",
        "# dataWithPredictableFeatures['Position'].fillna('ST', inplace = True)\n",
        "# dataWithPredictableFeatures['Body Type'].fillna('Normal', inplace = True)\n",
        "# dataWithPredictableFeatures['Work Rate'].fillna('Medium/ Medium', inplace = True)\n",
        "\n",
        "dataWithPredictableFeatures['Weight'].fillna('165lbs', inplace = True)\n",
        "dataWithPredictableFeatures['Height'].fillna(\"6'0\", inplace = True)\n",
        "#\n",
        "dataWithPredictableFeatures['Acceleration'].fillna(dataWithPredictableFeatures['Acceleration'].mean(), inplace = True)\n",
        "dataWithPredictableFeatures['SprintSpeed'].fillna(dataWithPredictableFeatures['SprintSpeed'].mean(), inplace = True)\n",
        "dataWithPredictableFeatures['Agility'].fillna(dataWithPredictableFeatures['Agility'].mean(), inplace = True)\n",
        "dataWithPredictableFeatures['Reactions'].fillna(dataWithPredictableFeatures['Reactions'].mean(), inplace = True)\n",
        "dataWithPredictableFeatures['Balance'].fillna(dataWithPredictableFeatures['Balance'].mean(), inplace = True)\n",
        "dataWithPredictableFeatures['ShotPower'].fillna(dataWithPredictableFeatures['ShotPower'].mean(), inplace = True)\n",
        "dataWithPredictableFeatures['Jumping'].fillna(dataWithPredictableFeatures['Jumping'].mean(), inplace = True)\n",
        "dataWithPredictableFeatures['Stamina'].fillna(dataWithPredictableFeatures['Stamina'].mean(), inplace = True)\n",
        "dataWithPredictableFeatures['Strength'].fillna(dataWithPredictableFeatures['Strength'].mean(), inplace = True)\n",
        "dataWithPredictableFeatures['LongShots'].fillna(dataWithPredictableFeatures['LongShots'].mean(), inplace = True)\n",
        "dataWithPredictableFeatures['Aggression'].fillna(dataWithPredictableFeatures['Aggression'].mean(), inplace = True)\n",
        "dataWithPredictableFeatures['Interceptions'].fillna(dataWithPredictableFeatures['Interceptions'].mean(), inplace = True)\n",
        "dataWithPredictableFeatures['Positioning'].fillna(dataWithPredictableFeatures['Positioning'].mean(), inplace = True)\n",
        "dataWithPredictableFeatures['Vision'].fillna(dataWithPredictableFeatures['Vision'].mean(), inplace = True)\n",
        "dataWithPredictableFeatures['Penalties'].fillna(dataWithPredictableFeatures['Penalties'].mean(), inplace = True)\n",
        "dataWithPredictableFeatures['Composure'].fillna(dataWithPredictableFeatures['Composure'].mean(), inplace = True)\n",
        "dataWithPredictableFeatures['Marking'].fillna(dataWithPredictableFeatures['Marking'].mean(), inplace = True)\n",
        "dataWithPredictableFeatures['StandingTackle'].fillna(dataWithPredictableFeatures['StandingTackle'].mean(), inplace = True)\n",
        "dataWithPredictableFeatures['SlidingTackle'].fillna(dataWithPredictableFeatures['SlidingTackle'].mean(), inplace = True)\n",
        "dataWithPredictableFeatures['GKDiving'].fillna(dataWithPredictableFeatures['GKDiving'].mean(), inplace = True)\n",
        "dataWithPredictableFeatures['GKHandling'].fillna(dataWithPredictableFeatures['GKHandling'].mean(), inplace = True)\n",
        "dataWithPredictableFeatures['GKKicking'].fillna(dataWithPredictableFeatures['GKKicking'].mean(), inplace = True)\n",
        "dataWithPredictableFeatures['GKPositioning'].fillna(dataWithPredictableFeatures['GKPositioning'].mean(), inplace = True)\n",
        "dataWithPredictableFeatures['GKReflexes'].fillna(dataWithPredictableFeatures['GKReflexes'].mean(), inplace = True)\n",
        "#\n",
        "dataWithPredictableFeatures['LS'].fillna(\"61+2\", inplace = True)\n",
        "dataWithPredictableFeatures['ST'].fillna(\"61+2\", inplace = True)\n",
        "dataWithPredictableFeatures['RS'].fillna(\"61+2\", inplace = True)\n",
        "dataWithPredictableFeatures['LW'].fillna(\"63+2\", inplace = True)\n",
        "dataWithPredictableFeatures['LF'].fillna(\"61+2\", inplace = True)\n",
        "dataWithPredictableFeatures['CF'].fillna(\"61+2\", inplace = True)\n",
        "dataWithPredictableFeatures['RF'].fillna(\"61+2\", inplace = True)\n",
        "dataWithPredictableFeatures['RW'].fillna(\"63+2\", inplace = True)\n",
        "dataWithPredictableFeatures['LAM'].fillna(\"61+2\", inplace = True)\n",
        "dataWithPredictableFeatures['CAM'].fillna(\"61+2\", inplace = True)\n",
        "dataWithPredictableFeatures['RAM'].fillna(\"61+2\", inplace = True)\n",
        "dataWithPredictableFeatures['LM'].fillna(\"61+2\", inplace = True)\n",
        "dataWithPredictableFeatures['LCM'].fillna(\"58+2\", inplace = True)\n",
        "dataWithPredictableFeatures['CM'].fillna(\"58+2\", inplace = True)\n",
        "dataWithPredictableFeatures['RCM'].fillna(\"58+2\", inplace = True)\n",
        "dataWithPredictableFeatures['RM'].fillna(\"61+2\", inplace = True)\n",
        "dataWithPredictableFeatures['LWB'].fillna(\"61+2\", inplace = True)\n",
        "dataWithPredictableFeatures['LDM'].fillna(\"62+2\", inplace = True)\n",
        "dataWithPredictableFeatures['CDM'].fillna(\"62+2\", inplace = True)\n",
        "dataWithPredictableFeatures['RDM'].fillna(\"62+2\", inplace = True)\n",
        "dataWithPredictableFeatures['RWB'].fillna(\"61+2\", inplace = True)\n",
        "dataWithPredictableFeatures['LB'].fillna(\"61+2\", inplace = True)\n",
        "dataWithPredictableFeatures['LCB'].fillna(\"63+2\", inplace = True)\n",
        "dataWithPredictableFeatures['CB'].fillna(\"63+2\", inplace = True)\n",
        "dataWithPredictableFeatures['RCB'].fillna(\"63+2\", inplace = True)\n",
        "dataWithPredictableFeatures['RB'].fillna(\"61+2\", inplace = True)\n",
        "\n",
        "\n",
        "\n",
        "dataWithPredictableFeatures['Contract Valid Until'] = np.where((dataWithPredictableFeatures['Contract Valid Until'].str.contains(',', na = False)), dataWithPredictableFeatures['Contract Valid Until'].mode(), dataWithPredictableFeatures[\"Contract Valid Until\"])\n",
        "dataWithPredictableFeatures['Contract Valid Until'].fillna('2019', inplace = True)\n",
        "# dataWithPredictableFeatures['Contract Valid Until'].fillna(dataWithPredictableFeatures['Contract Valid Until'].mode(), inplace = True)\n",
        "\n",
        "dataWithPredictableFeatures['Joined'].fillna('Jul 1, 2018', inplace = True)\n",
        "# dataWithPredictableFeatures['Joined'].fillna(dataWithPredictableFeatures['Joined'].mode(), inplace = True)\n"
      ],
      "execution_count": 0,
      "outputs": []
    },
    {
      "cell_type": "code",
      "metadata": {
        "id": "zErE6u0Ljakq",
        "colab_type": "code",
        "colab": {}
      },
      "source": [
        "def objectToNumberJoined():\n",
        "  split = dataWithPredictableFeatures['Joined'].str.split(',')\n",
        "  i = 0\n",
        "  for s in split:\n",
        "    year = int(s[1])\n",
        "    dataWithPredictableFeatures['Joined'].iloc[i] = year\n",
        "    i = i + 1\n",
        "  print('Joined Done!')"
      ],
      "execution_count": 0,
      "outputs": []
    },
    {
      "cell_type": "code",
      "metadata": {
        "id": "0yqGkUTwF_Ma",
        "colab_type": "code",
        "colab": {}
      },
      "source": [
        "def objectToNumberHeight():\n",
        "  feet, inches = dataWithPredictableFeatures['Height'].str.split(\"'\", 1).str\n",
        "  feet = feet.astype('double')\n",
        "  inches = inches.astype('double')\n",
        "  dataWithPredictableFeatures['Height'] = (feet * 12 + inches) * 2.54\n",
        "\n",
        "  print('Height Done!')"
      ],
      "execution_count": 0,
      "outputs": []
    },
    {
      "cell_type": "code",
      "metadata": {
        "id": "P2NvmfRly_nt",
        "colab_type": "code",
        "colab": {}
      },
      "source": [
        "def objectToNumber(myColumn):\n",
        "  num1, num2 = dataWithPredictableFeatures[myColumn].str.split(\"+\").str\n",
        "  num1 = num1.astype('float')\n",
        "  num2 = num2.astype('float')\n",
        "  dataWithPredictableFeatures[myColumn] = num1 + num2\n",
        "  print(myColumn + \" Done!\")\n",
        "\n",
        "# def objectToNumber(myColumn):\n",
        "#   new = dataWithPredictableFeatures[myColumn].str.split('+')\n",
        "#   i = 0\n",
        "#   for x in new:\n",
        "#     y = int(x[0]) + int(x[1])\n",
        "#     dataWithPredictableFeatures[myColumn].iloc[i] = y\n",
        "#     i = i + 1\n",
        "#   print(myColumn + \" Done!\")"
      ],
      "execution_count": 0,
      "outputs": []
    },
    {
      "cell_type": "code",
      "metadata": {
        "id": "fGaNfWNV_-jJ",
        "colab_type": "code",
        "colab": {}
      },
      "source": [
        "### Bao's kernel :)\n",
        "def calculateMoney(money):\n",
        "    base = 1\n",
        "    last = money[-1].casefold()\n",
        "    if \"M\".casefold() == last:\n",
        "        base = 1000000\n",
        "    elif \"K\".casefold() == last:\n",
        "        base = 1000\n",
        "    \n",
        "    if base > 1:\n",
        "        val = (float) (money[1:-1])\n",
        "    else:\n",
        "        val = (float) (money[1:])\n",
        "    return val*base"
      ],
      "execution_count": 0,
      "outputs": []
    },
    {
      "cell_type": "code",
      "metadata": {
        "id": "bt10qWDxGaPR",
        "colab_type": "code",
        "colab": {}
      },
      "source": [
        "objectToNumberJoined()\n",
        "objectToNumberHeight()\n",
        "\n",
        "dataWithPredictableFeatures['Contract Valid Until'] = pd.to_numeric(dataWithPredictableFeatures['Contract Valid Until'])\n",
        "print('Contract Valid Until Done!')\n",
        "\n",
        "\n",
        "dataWithPredictableFeatures['Value'] = dataWithPredictableFeatures['Value'].apply(calculateMoney)\n",
        "print('Value Done!')\n",
        "dataWithPredictableFeatures['Wage'] = dataWithPredictableFeatures['Wage'].apply(calculateMoney)\n",
        "print('Wage Done!')\n",
        "\n",
        "weight = dataWithPredictableFeatures['Weight'].str.extract(r'(\\d+)')\n",
        "dataWithPredictableFeatures['Weight'] = weight.astype('float')\n",
        "print('Weight Done!')\n",
        "\n",
        "objectToNumber(\"LS\")\n",
        "objectToNumber(\"ST\")\n",
        "objectToNumber(\"RS\")\n",
        "objectToNumber(\"LW\")\n",
        "objectToNumber(\"LF\")\n",
        "objectToNumber(\"CF\")\n",
        "objectToNumber(\"RF\")\n",
        "objectToNumber(\"RW\")\n",
        "objectToNumber(\"LAM\")\n",
        "objectToNumber(\"CAM\")\n",
        "objectToNumber(\"RAM\")\n",
        "objectToNumber(\"LM\")\n",
        "objectToNumber(\"LCM\")\n",
        "objectToNumber(\"CM\")\n",
        "objectToNumber(\"RCM\")\n",
        "objectToNumber(\"RM\")\n",
        "objectToNumber(\"LWB\")\n",
        "objectToNumber(\"LDM\")\n",
        "objectToNumber(\"CDM\")\n",
        "objectToNumber(\"RDM\")\n",
        "objectToNumber(\"RWB\")\n",
        "objectToNumber(\"LB\")\n",
        "objectToNumber(\"LCB\")\n",
        "objectToNumber(\"CB\")\n",
        "objectToNumber(\"RCB\")\n",
        "objectToNumber(\"RB\")"
      ],
      "execution_count": 0,
      "outputs": []
    },
    {
      "cell_type": "code",
      "metadata": {
        "id": "psrsIrwC9LRg",
        "colab_type": "code",
        "colab": {}
      },
      "source": [
        "plt.figure(figsize=(30, 10))\n",
        "sns.heatmap(dataWithPredictableFeatures.isnull(), cbar=True)"
      ],
      "execution_count": 0,
      "outputs": []
    },
    {
      "cell_type": "code",
      "metadata": {
        "id": "z63JAgdc9LCB",
        "colab_type": "code",
        "colab": {}
      },
      "source": [
        "plt.figure(figsize=(25, 10))\n",
        "missing_data = dataWithPredictableFeatures.isnull().sum().sort_values(ascending = False)\n",
        "missing_data.plot.bar()"
      ],
      "execution_count": 0,
      "outputs": []
    },
    {
      "cell_type": "code",
      "metadata": {
        "id": "wm_wJnZfgLp8",
        "colab_type": "code",
        "colab": {}
      },
      "source": [
        "pd.options.display.max_rows = 100\n",
        "dataWithPredictableFeatures.isnull().mean().round(4) * 100"
      ],
      "execution_count": 0,
      "outputs": []
    },
    {
      "cell_type": "code",
      "metadata": {
        "id": "57lflu6WgON9",
        "colab_type": "code",
        "colab": {}
      },
      "source": [
        "dataWithPredictableFeatures.info()\n",
        "# dataWithPredictableFeatures.head()"
      ],
      "execution_count": 0,
      "outputs": []
    },
    {
      "cell_type": "code",
      "metadata": {
        "id": "-7D7jfQGN9H5",
        "colab_type": "code",
        "colab": {}
      },
      "source": [
        "dataWithPredictableFeatures['Value'].mean()"
      ],
      "execution_count": 0,
      "outputs": []
    },
    {
      "cell_type": "code",
      "metadata": {
        "id": "_msoUWX_DXkX",
        "colab_type": "code",
        "colab": {}
      },
      "source": [
        "dataWithPredictableFeatures.hist(figsize=(50,50))"
      ],
      "execution_count": 0,
      "outputs": []
    },
    {
      "cell_type": "code",
      "metadata": {
        "scrolled": true,
        "id": "HzR4Iny0_6FL",
        "colab_type": "code",
        "colab": {}
      },
      "source": [
        "# dataWithPredictableFeaturesWithDummies = pd.get_dummies(dataWithPredictableFeatures)\n",
        "# X = dataWithPredictableFeaturesWithDummies.drop(['Value'],axis = 1)\n",
        "# y = dataWithPredictableFeaturesWithDummies['Value']\n",
        "\n",
        "X = dataWithPredictableFeatures.drop(['Value'], axis = 1)\n",
        "y = dataWithPredictableFeatures['Value']"
      ],
      "execution_count": 0,
      "outputs": []
    },
    {
      "cell_type": "code",
      "metadata": {
        "id": "oO83p5s7_6FO",
        "colab_type": "code",
        "colab": {}
      },
      "source": [
        "from sklearn.model_selection import train_test_split\n",
        "X_train, X_test, y_train, y_test = train_test_split(X, y, test_size = 0.2, random_state = 0)\n",
        "\n",
        "# X_train - 90% of all dataset NO \"Value\"\n",
        "# X_test -  10% of all dataset NO \"Value\"\n",
        "# y_train - 90% of all dataset ONLY \"Value\"\n",
        "# y_test -  10% of all dataset ONLY \"Value\""
      ],
      "execution_count": 0,
      "outputs": []
    },
    {
      "cell_type": "code",
      "metadata": {
        "id": "B_fK7y3j_6FQ",
        "colab_type": "code",
        "colab": {}
      },
      "source": [
        "from sklearn.preprocessing import StandardScaler\n",
        "\n",
        "sc = StandardScaler()\n",
        "X_train = sc.fit_transform(X_train)\n",
        "X_test = sc.transform(X_test)"
      ],
      "execution_count": 0,
      "outputs": []
    },
    {
      "cell_type": "code",
      "metadata": {
        "id": "6MA64hLZbpi8",
        "colab_type": "code",
        "colab": {}
      },
      "source": [
        "# PCA documentation\n",
        "# from sklearn.decomposition import PCA\n",
        "\n",
        "# pca = PCA(.95)\n",
        "# pca.fit(X_train)\n",
        "\n",
        "# X_train = pca.transform(X_train)\n",
        "# X_test = pca.transform(X_test)"
      ],
      "execution_count": 0,
      "outputs": []
    },
    {
      "cell_type": "code",
      "metadata": {
        "id": "KtU-WPIoR3Ur",
        "colab_type": "code",
        "colab": {}
      },
      "source": [
        "# # Box-Cox documentation\n",
        "# import numpy as np\n",
        "# from sklearn.preprocessing import power_transform\n",
        "# X_train = power_transform(X_train, method='yeo-johnson')\n",
        "# X_test = power_transform(X_test, method='yeo-johnson')"
      ],
      "execution_count": 0,
      "outputs": []
    },
    {
      "cell_type": "code",
      "metadata": {
        "id": "Hgq5cr07_6FT",
        "colab_type": "code",
        "colab": {}
      },
      "source": [
        "# Random Forest\n",
        "from sklearn.ensemble import RandomForestRegressor\n",
        "\n",
        "regressor = RandomForestRegressor(n_estimators = 240, random_state = 0)\n",
        "print(regressor.get_params())\n",
        "regressor.fit(X_train, y_train)\n",
        "y_pred = regressor.predict(X_test)"
      ],
      "execution_count": 0,
      "outputs": []
    },
    {
      "cell_type": "code",
      "metadata": {
        "id": "vuVPnKLMYEqL",
        "colab_type": "code",
        "colab": {}
      },
      "source": [
        "# XGBoost (Jain - Bao Hyperparameters)\n",
        "import xgboost as xgb\n",
        "\n",
        "regressor = xgb.XGBRegressor(objective=\"reg:squarederror\", learning_rate = 0.05, n_estimators = 5000, max_depth = 5, min_child_weight = 2, gamma = 0, reg_lambda = 1, subsample = 0.9, colsample_bytree = 1)\n",
        "\n",
        "regressor.fit(X_train, y_train)\n",
        "y_pred = regressor.predict(X_test)"
      ],
      "execution_count": 0,
      "outputs": []
    },
    {
      "cell_type": "code",
      "metadata": {
        "id": "JnmdwKTeqxDv",
        "colab_type": "code",
        "colab": {}
      },
      "source": [
        "#SVC Support Vector Classification\n",
        "from sklearn import svm\n",
        "\n",
        "regressor = svm.SVR()\n",
        "\n",
        "regressor.fit(X_train, y_train)\n",
        "y_pred = regressor.predict(X_test)"
      ],
      "execution_count": 0,
      "outputs": []
    },
    {
      "cell_type": "code",
      "metadata": {
        "id": "dvnj7G6f_6FW",
        "colab_type": "code",
        "colab": {}
      },
      "source": [
        "from sklearn import metrics\n",
        "\n",
        "print('Mean Absolute Error:\\t\\t', metrics.mean_absolute_error(y_test, y_pred))\n",
        "print('Mean Squared Error:\\t\\t', metrics.mean_squared_error(y_test, y_pred))\n",
        "print('Root Mean Squared Error:\\t', np.sqrt(metrics.mean_squared_error(y_test, y_pred)))"
      ],
      "execution_count": 0,
      "outputs": []
    },
    {
      "cell_type": "code",
      "metadata": {
        "id": "vjRLFFu1q3ca",
        "colab_type": "code",
        "colab": {}
      },
      "source": [
        "plt.figure(figsize=(25,10))\n",
        "plt.style.use('seaborn')\n",
        "plt.plot(y_pred, y_test)"
      ],
      "execution_count": 0,
      "outputs": []
    },
    {
      "cell_type": "code",
      "metadata": {
        "id": "Bmc-b5sK_6Fc",
        "colab_type": "code",
        "colab": {}
      },
      "source": [
        "# tree = 240 143400\n",
        "\n",
        "tree = 100\n",
        "tree_numbers, MAE, MSE, RMSE = [], [], [], []\n",
        "while tree <= 300:\n",
        "    regressor = RandomForestRegressor(n_estimators = tree, random_state = 0)\n",
        "    regressor.fit(X_train, y_train)\n",
        "    y_pred = regressor.predict(X_test)\n",
        "    tree_numbers.append(str(tree))\n",
        "    MAE.append(metrics.mean_absolute_error(y_test, y_pred))\n",
        "    MSE.append(metrics.mean_squared_error(y_test, y_pred))\n",
        "    RMSE.append(np.sqrt(metrics.mean_squared_error(y_test, y_pred)))\n",
        "    tree += 10"
      ],
      "execution_count": 0,
      "outputs": []
    },
    {
      "cell_type": "code",
      "metadata": {
        "scrolled": false,
        "id": "pE4WWTx6_6Fe",
        "colab_type": "code",
        "colab": {}
      },
      "source": [
        "plt.figure(figsize=(25,10))\n",
        "plt.style.use('seaborn')\n",
        "plt.plot(tree_numbers, MAE, label = 'Mean Absolute Error')\n",
        "#plt.plot(tree_numbers, MSE, label = 'Mean Squared Error')\n",
        "#plt.plot(tree_numbers, RMSE, label = 'Root Mean Square Error')"
      ],
      "execution_count": 0,
      "outputs": []
    }
  ]
}